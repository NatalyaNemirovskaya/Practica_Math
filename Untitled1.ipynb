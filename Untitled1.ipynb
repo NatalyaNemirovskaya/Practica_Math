{
  "nbformat": 4,
  "nbformat_minor": 0,
  "metadata": {
    "colab": {
      "provenance": [],
      "toc_visible": true
    },
    "kernelspec": {
      "name": "python3",
      "display_name": "Python 3"
    },
    "language_info": {
      "name": "python"
    }
  },
  "cells": [
    {
      "cell_type": "markdown",
      "source": [
        "\n"
      ],
      "metadata": {
        "id": "Nr1huGBjXUOH"
      }
    },
    {
      "cell_type": "markdown",
      "source": [
        "**Задача 1**\n",
        "\n",
        "Даны векторы $\\vec{a} = \\begin{bmatrix}\n",
        "    1 \\\\ 2 \\\\ 3\n",
        "\\end{bmatrix}$,\n",
        "$\\vec{b} = \\begin{bmatrix}\n",
        "    -5 \\\\ -1 \\\\ 6\n",
        "\\end{bmatrix}$, $\\vec{c} = \\begin{bmatrix}\n",
        "    -1 \\\\ 3 \\\\ 9\n",
        "\\end{bmatrix}$.\n",
        "\n",
        "Найдите результат вычисления: $3\\vec{a} + 2\\vec{b} - 4\\vec{c}$."
      ],
      "metadata": {
        "id": "z6Di9BG8PDqS"
      }
    },
    {
      "cell_type": "code",
      "source": [
        "import numpy as np\n",
        "a = np.array([[1],[2],[3]])\n",
        "b = np.array([[-5],[-1],[6]])\n",
        "c = np.array([[-1],[3],[9]])\n",
        "\n",
        "3*a+2*b+4*c\n",
        "\n"
      ],
      "metadata": {
        "colab": {
          "base_uri": "https://localhost:8080/"
        },
        "id": "PDPf9oIsXiKW",
        "outputId": "c882b203-e3d0-4154-cef5-a726025b4edd"
      },
      "execution_count": 8,
      "outputs": [
        {
          "output_type": "execute_result",
          "data": {
            "text/plain": [
              "array([[-11],\n",
              "       [ 16],\n",
              "       [ 57]])"
            ]
          },
          "metadata": {},
          "execution_count": 8
        }
      ]
    },
    {
      "cell_type": "markdown",
      "source": [
        "Задача 2\n",
        "\n",
        "Даны точки A(3,−2) и B(1,4). Точка M лежит на прямой AB так, что |AM|=3|AB|. Найдите координаты точки M, если точки M и B лежат по одну сторону от A.\n",
        "\n",
        "Если точку А сдвинуть к началу координатной сетки, то получится вектор (АВ) с координатами (1-3 , 4-(-2)) = (-2, 6). Так как точка М находится на прямой (АВ) вектор М будет сонаправлен и иметь координаты 3*(-2,6) = (-6, 18). Чтобы вернуть начало вектора к точке А нужно сдвинуть вектор М на 3 по оси Х и на -2 по оси Y. Координаты точки М будут (-6+3, 18-2) =(-3, 16).\n",
        "Координаты точки М = (-3, 16)."
      ],
      "metadata": {
        "id": "K_fJkarLbk7p"
      }
    },
    {
      "cell_type": "markdown",
      "source": [
        "**Задача 1**\n",
        "\n",
        "Найдите векторное произведение двух векторов:\n",
        "    \\begin{align*}\n",
        "        \\vec{a} = \\begin{bmatrix}-5\\\\3\\\\8\\end{bmatrix},\\ \\vec{b} = \\begin{bmatrix}2\\\\5\\\\1\\end{bmatrix} \\\\\n",
        "         \\end{align*}"
      ],
      "metadata": {
        "id": "Livp6DYBSpyw"
      }
    },
    {
      "cell_type": "code",
      "source": [
        "import sympy as sp\n",
        "a = sp.Matrix([[-5],[3],[8]])\n",
        "b = sp.Matrix([[2],[5],[1]])\n",
        "c =sp.Matrix.cross(a,b)\n",
        "c\n"
      ],
      "metadata": {
        "colab": {
          "base_uri": "https://localhost:8080/",
          "height": 78
        },
        "id": "lGGe9kl6lymy",
        "outputId": "f8fb6823-8ca2-4fa3-c957-8d035d4f5898"
      },
      "execution_count": 11,
      "outputs": [
        {
          "output_type": "execute_result",
          "data": {
            "text/plain": [
              "Matrix([\n",
              "[-37],\n",
              "[ 21],\n",
              "[-31]])"
            ],
            "text/latex": "$\\displaystyle \\left[\\begin{matrix}-37\\\\21\\\\-31\\end{matrix}\\right]$"
          },
          "metadata": {},
          "execution_count": 11
        }
      ]
    },
    {
      "cell_type": "markdown",
      "source": [],
      "metadata": {
        "id": "0MjK2ScmpZqJ"
      }
    },
    {
      "cell_type": "markdown",
      "source": [
        "**Задача 2**\n",
        "\n",
        "Упростите выражение:\n",
        "    \\begin{align*}\n",
        "        (\\vec{a} + \\vec{b} ) \\times (\\vec{a} - \\vec{b})\n",
        "    \\end{align*}\n",
        "\n"
      ],
      "metadata": {
        "id": "oZyT9AiDVrYm"
      }
    },
    {
      "cell_type": "code",
      "source": [
        "from sympy import MatrixSymbol, Matrix\n",
        "import sympy as sp\n",
        "a =sp.MatrixSymbol('a',3,1)\n",
        "b = sp.MatrixSymbol('b',3,1)\n",
        "ab_sum =a+b\n",
        "ab_dif = a-b\n",
        "mul = sp.Matrix.cross(Matrix(ab_sum), Matrix(ab_dif))\n",
        "mul\n"
      ],
      "metadata": {
        "colab": {
          "base_uri": "https://localhost:8080/",
          "height": 78
        },
        "id": "tcBdLtGypmK5",
        "outputId": "fbf35cc7-7c59-41ac-8725-2191a631ce8d"
      },
      "execution_count": 16,
      "outputs": [
        {
          "output_type": "execute_result",
          "data": {
            "text/plain": [
              "Matrix([\n",
              "[-(a[1, 0] - b[1, 0])*(a[2, 0] + b[2, 0]) + (a[1, 0] + b[1, 0])*(a[2, 0] - b[2, 0])],\n",
              "[ (a[0, 0] - b[0, 0])*(a[2, 0] + b[2, 0]) - (a[0, 0] + b[0, 0])*(a[2, 0] - b[2, 0])],\n",
              "[-(a[0, 0] - b[0, 0])*(a[1, 0] + b[1, 0]) + (a[0, 0] + b[0, 0])*(a[1, 0] - b[1, 0])]])"
            ],
            "text/latex": "$\\displaystyle \\left[\\begin{matrix}- \\left(a_{1, 0} - b_{1, 0}\\right) \\left(a_{2, 0} + b_{2, 0}\\right) + \\left(a_{1, 0} + b_{1, 0}\\right) \\left(a_{2, 0} - b_{2, 0}\\right)\\\\\\left(a_{0, 0} - b_{0, 0}\\right) \\left(a_{2, 0} + b_{2, 0}\\right) - \\left(a_{0, 0} + b_{0, 0}\\right) \\left(a_{2, 0} - b_{2, 0}\\right)\\\\- \\left(a_{0, 0} - b_{0, 0}\\right) \\left(a_{1, 0} + b_{1, 0}\\right) + \\left(a_{0, 0} + b_{0, 0}\\right) \\left(a_{1, 0} - b_{1, 0}\\right)\\end{matrix}\\right]$"
          },
          "metadata": {},
          "execution_count": 16
        }
      ]
    },
    {
      "cell_type": "code",
      "source": [
        "mul_d = sp.sympify(mul)\n",
        "mul_d"
      ],
      "metadata": {
        "colab": {
          "base_uri": "https://localhost:8080/",
          "height": 78
        },
        "id": "R699w4kTtMTR",
        "outputId": "32148481-ed92-4efd-d8ba-6bd6fbd92385"
      },
      "execution_count": 19,
      "outputs": [
        {
          "output_type": "execute_result",
          "data": {
            "text/plain": [
              "Matrix([\n",
              "[-(a[1, 0] - b[1, 0])*(a[2, 0] + b[2, 0]) + (a[1, 0] + b[1, 0])*(a[2, 0] - b[2, 0])],\n",
              "[ (a[0, 0] - b[0, 0])*(a[2, 0] + b[2, 0]) - (a[0, 0] + b[0, 0])*(a[2, 0] - b[2, 0])],\n",
              "[-(a[0, 0] - b[0, 0])*(a[1, 0] + b[1, 0]) + (a[0, 0] + b[0, 0])*(a[1, 0] - b[1, 0])]])"
            ],
            "text/latex": "$\\displaystyle \\left[\\begin{matrix}- \\left(a_{1, 0} - b_{1, 0}\\right) \\left(a_{2, 0} + b_{2, 0}\\right) + \\left(a_{1, 0} + b_{1, 0}\\right) \\left(a_{2, 0} - b_{2, 0}\\right)\\\\\\left(a_{0, 0} - b_{0, 0}\\right) \\left(a_{2, 0} + b_{2, 0}\\right) - \\left(a_{0, 0} + b_{0, 0}\\right) \\left(a_{2, 0} - b_{2, 0}\\right)\\\\- \\left(a_{0, 0} - b_{0, 0}\\right) \\left(a_{1, 0} + b_{1, 0}\\right) + \\left(a_{0, 0} + b_{0, 0}\\right) \\left(a_{1, 0} - b_{1, 0}\\right)\\end{matrix}\\right]$"
          },
          "metadata": {},
          "execution_count": 19
        }
      ]
    },
    {
      "cell_type": "markdown",
      "source": [],
      "metadata": {
        "id": "nmEulx0Kt4dI"
      }
    },
    {
      "cell_type": "markdown",
      "source": [
        "**Задача 3**\n",
        "\n",
        "Все три вектора $\\vec{a}, \\vec{b},\\vec{c}$ имеют длину $3$, и $\\vec{a} + \\vec{b} + \\vec{c} = \\vec{0}$.\n",
        "\n",
        "Найдите результат вычисления: $\\vec{a} \\cdot \\vec{b} + \\vec{b} \\cdot \\vec{c} + \\vec{c} \\cdot \\vec{a}$.\n",
        "\n"
      ],
      "metadata": {
        "id": "K7bPVLv5Wu-Q"
      }
    },
    {
      "cell_type": "code",
      "source": [
        "from sympy import MatrixSymbol, Matrix\n",
        "import sympy as sp\n",
        "a =sp.MatrixSymbol('aa*b+b*c+c*a ',3,1)\n",
        "\n",
        "dot = (3*3)*(1/2)\n",
        "print(dot)\n"
      ],
      "metadata": {
        "colab": {
          "base_uri": "https://localhost:8080/"
        },
        "id": "GPlT6GpFt9YI",
        "outputId": "fda920af-daec-4ba6-ff9b-ad63a972007c"
      },
      "execution_count": 21,
      "outputs": [
        {
          "output_type": "stream",
          "name": "stdout",
          "text": [
            "4.5\n"
          ]
        }
      ]
    },
    {
      "cell_type": "code",
      "source": [
        "a= dot*3\n",
        "print(a)\n"
      ],
      "metadata": {
        "colab": {
          "base_uri": "https://localhost:8080/"
        },
        "id": "lbJ0ejhay6pd",
        "outputId": "f9da9580-fcdd-47df-b755-b6002abcd5a0"
      },
      "execution_count": 22,
      "outputs": [
        {
          "output_type": "stream",
          "name": "stdout",
          "text": [
            "13.5\n"
          ]
        }
      ]
    },
    {
      "cell_type": "markdown",
      "source": [],
      "metadata": {
        "id": "lSdKglDq5QNj"
      }
    },
    {
      "cell_type": "markdown",
      "source": [
        "**Задача 1**\n",
        "\n",
        "Даны $A=\\begin{bmatrix} 2 & -1 & -1\\end{bmatrix}$ и $B=\\begin{bmatrix} -2 \\\\ -1 \\\\ 3 \\end{bmatrix}$. \\\\\n",
        "    1. Найдите $AB$ и $BA$, если они существуют. \\\\\n",
        "    2. Найдите $A^TB$ и $BA^T$, если они существуют."
      ],
      "metadata": {
        "id": "K8eqoj7lZgfR"
      }
    },
    {
      "cell_type": "code",
      "source": [
        "import sympy as sp\n",
        "a = sp.Matrix([[2,-1,-1]])\n",
        "b = sp.Matrix([[-2],[-1],[3]])\n",
        "ab = a*b\n",
        "print(ab)\n",
        "ba = b*a\n",
        "print(ba)\n",
        "at = a.T\n",
        "print(at)\n",
        "\n",
        "\n",
        "\n",
        "\n",
        "\n",
        "\n"
      ],
      "metadata": {
        "colab": {
          "base_uri": "https://localhost:8080/"
        },
        "id": "higFjb4OivD4",
        "outputId": "e7a4e9aa-a6b2-4ad1-bef6-a74f52511144"
      },
      "execution_count": 30,
      "outputs": [
        {
          "output_type": "stream",
          "name": "stdout",
          "text": [
            "Matrix([[-6]])\n",
            "Matrix([[-4, 2, 2], [-2, 1, 1], [6, -3, -3]])\n",
            "Matrix([[2], [-1], [-1]])\n"
          ]
        }
      ]
    },
    {
      "cell_type": "markdown",
      "source": [
        "**Задача 2**\n",
        "\n",
        "Дана матрица $A = \\begin{bmatrix} 1 & 4 \\\\ 9 & 1\\end{bmatrix}$.\n",
        "\n",
        "Найдите $l$, если определитель $A - El$ равен $0$, где $E$ — единичная матрица."
      ],
      "metadata": {
        "id": "o0sRsg7DcnWl"
      }
    },
    {
      "cell_type": "code",
      "source": [
        "import sympy as sp\n",
        "d= sp.Matrix([[1,4],[9,1]])\n",
        "\n",
        "s = sp.eye(2)*d\n",
        "print(s)\n",
        "f=d-s\n",
        "sp.det(f)\n",
        "\n",
        "\n",
        "\n"
      ],
      "metadata": {
        "colab": {
          "base_uri": "https://localhost:8080/",
          "height": 55
        },
        "id": "qazsZisTwrlR",
        "outputId": "c338e73b-f828-4272-9794-ff280dbb6198"
      },
      "execution_count": 44,
      "outputs": [
        {
          "output_type": "stream",
          "name": "stdout",
          "text": [
            "Matrix([[1, 4], [9, 1]])\n"
          ]
        },
        {
          "output_type": "execute_result",
          "data": {
            "text/plain": [
              "0"
            ],
            "text/latex": "$\\displaystyle 0$"
          },
          "metadata": {},
          "execution_count": 44
        }
      ]
    },
    {
      "cell_type": "markdown",
      "source": [],
      "metadata": {
        "id": "ciu9KJGm549d"
      }
    },
    {
      "cell_type": "markdown",
      "source": [
        "**Задача 1**\n",
        "\n",
        "Вычислите ранг матрицы $\\begin{bmatrix}1&2\\\\2&4\\\\1&1\\end{bmatrix}$ с помощью функции $rank()$ и c помощью $rref()$."
      ],
      "metadata": {
        "id": "F0QA2ARJeS_Z"
      }
    },
    {
      "cell_type": "code",
      "source": [
        "import sympy as sp\n",
        "d= sp.Matrix([[1,2],[2,4],[1,1]])\n",
        "r=sp.Matrix.rank(d)\n",
        "print(r)\n",
        "sp.Matrix.rref(d)[0]"
      ],
      "metadata": {
        "colab": {
          "base_uri": "https://localhost:8080/",
          "height": 96
        },
        "id": "XhMF16eZ5_Vm",
        "outputId": "c2af0b1f-0ec6-4efd-aa50-4c19ea20600b"
      },
      "execution_count": 50,
      "outputs": [
        {
          "output_type": "stream",
          "name": "stdout",
          "text": [
            "2\n"
          ]
        },
        {
          "output_type": "execute_result",
          "data": {
            "text/plain": [
              "Matrix([\n",
              "[1, 0],\n",
              "[0, 1],\n",
              "[0, 0]])"
            ],
            "text/latex": "$\\displaystyle \\left[\\begin{matrix}1 & 0\\\\0 & 1\\\\0 & 0\\end{matrix}\\right]$"
          },
          "metadata": {},
          "execution_count": 50
        }
      ]
    },
    {
      "cell_type": "markdown",
      "source": [],
      "metadata": {
        "id": "74ldOc7K7WL8"
      }
    },
    {
      "cell_type": "markdown",
      "source": [
        "**Задача 1**\n",
        "\n",
        "Решите уравнения:\n",
        "\n",
        "1) $\\begin{bmatrix}2&5\\\\1&3\\end{bmatrix}X=\\begin{bmatrix}2&1\\\\1&1\\end{bmatrix}$; \\\\\n",
        "2)  $X\\begin{bmatrix}2&5\\\\1&3\\end{bmatrix}=\\begin{bmatrix}2&1\\\\1&1\\end{bmatrix}$;"
      ],
      "metadata": {
        "id": "4h1m1wRVfJui"
      }
    },
    {
      "cell_type": "code",
      "source": [
        "import sympy as sp\n",
        "d= sp.Matrix([[2,5],[1,3]])\n",
        "c=sp.Matrix([[2,1],[1,1]])\n",
        "g = sp.Matrix.inv(d)\n",
        "x= g*c\n",
        "print(x)\n",
        "х= c*g\n",
        "print(х)\n"
      ],
      "metadata": {
        "colab": {
          "base_uri": "https://localhost:8080/"
        },
        "id": "JI8dB7aU7eVU",
        "outputId": "8734b05f-f990-4bcf-bc52-ebf6b52b940a"
      },
      "execution_count": 53,
      "outputs": [
        {
          "output_type": "stream",
          "name": "stdout",
          "text": [
            "Matrix([[1, -2], [0, 1]])\n",
            "Matrix([[5, -8], [2, -3]])\n"
          ]
        }
      ]
    },
    {
      "cell_type": "markdown",
      "source": [],
      "metadata": {
        "id": "nL_33fox_m1l"
      }
    },
    {
      "cell_type": "markdown",
      "source": [
        "**Задача 2**\n",
        "\n",
        "Найдите значения $AA^+$, $AA^+A$ и $A^+A$, если $A=\\begin{bmatrix}3 \\\\ 7 \\\\ 2\\end{bmatrix}$."
      ],
      "metadata": {
        "id": "K1oVG0UKgkH5"
      }
    },
    {
      "cell_type": "code",
      "source": [
        "import sympy as sp\n",
        "d= sp.Matrix([[3],[7],[2]])\n",
        "sd=sp.Matrix.pinv(d)\n",
        "print(sd)\n",
        "asd= d*sd\n",
        "print(asd)\n",
        "asda = d*sd*d\n",
        "print(asda)\n",
        "sda = sd*d\n",
        "print(sda)"
      ],
      "metadata": {
        "colab": {
          "base_uri": "https://localhost:8080/"
        },
        "id": "_tkpGfimBKdU",
        "outputId": "c52b0610-f8d1-4288-b8c8-10153581ac47"
      },
      "execution_count": 59,
      "outputs": [
        {
          "output_type": "stream",
          "name": "stdout",
          "text": [
            "Matrix([[3/62, 7/62, 1/31]])\n",
            "Matrix([[9/62, 21/62, 3/31], [21/62, 49/62, 7/31], [3/31, 7/31, 2/31]])\n",
            "Matrix([[3], [7], [2]])\n",
            "Matrix([[1]])\n"
          ]
        }
      ]
    },
    {
      "cell_type": "markdown",
      "source": [],
      "metadata": {
        "id": "hqyoryv0D5c-"
      }
    },
    {
      "cell_type": "markdown",
      "source": [
        "**Задача 1**\n",
        "\n",
        "Решите уравнения:\n",
        "\n",
        "1) $x^2 + 2x + 4 =0$ \\\\\n",
        "2) $\\bar{x} = 2 + 2x$"
      ],
      "metadata": {
        "id": "A0fDN564i-QB"
      }
    },
    {
      "cell_type": "code",
      "source": [
        "from sympy import MatrixSymbol, Matrix\n",
        "import sympy as sp\n",
        "x=sp.Symbol('x')\n",
        "sp.solve(x**2 + 2*x +4 , x)\n"
      ],
      "metadata": {
        "colab": {
          "base_uri": "https://localhost:8080/"
        },
        "id": "mRf494k8D_Tv",
        "outputId": "d93255cb-0bc7-411c-a6bb-ff61ba520a93"
      },
      "execution_count": 60,
      "outputs": [
        {
          "output_type": "execute_result",
          "data": {
            "text/plain": [
              "[-1 - sqrt(3)*I, -1 + sqrt(3)*I]"
            ]
          },
          "metadata": {},
          "execution_count": 60
        }
      ]
    },
    {
      "cell_type": "code",
      "source": [
        "sp.solve(x.conjugate() -2*x-2, x)"
      ],
      "metadata": {
        "colab": {
          "base_uri": "https://localhost:8080/"
        },
        "id": "XmsgYSj_G3Lt",
        "outputId": "aec4133e-9eba-4185-8c66-34b9df8537c8"
      },
      "execution_count": 62,
      "outputs": [
        {
          "output_type": "execute_result",
          "data": {
            "text/plain": [
              "[-2]"
            ]
          },
          "metadata": {},
          "execution_count": 62
        }
      ]
    }
  ]
}